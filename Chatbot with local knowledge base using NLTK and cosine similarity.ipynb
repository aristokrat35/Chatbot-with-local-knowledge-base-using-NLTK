{
  "cells": [
    {
      "cell_type": "code",
      "execution_count": null,
      "metadata": {
        "id": "9AlhGYWCE3IQ"
      },
      "outputs": [],
      "source": [
        "import numpy as np\n",
        "import nltk\n",
        "import string\n",
        "import random"
      ]
    },
    {
      "cell_type": "code",
      "execution_count": null,
      "metadata": {
        "id": "gry9ZmLHFFGD"
      },
      "outputs": [],
      "source": [
        "f = open('/content/wikipedia.txt','r',errors = 'ignore')\n",
        "raw_doc = f.read()\n",
        "#read dosyayı okur ve bir dizeye döndürür\n"
      ]
    },
    {
      "cell_type": "code",
      "execution_count": null,
      "metadata": {
        "colab": {
          "base_uri": "https://localhost:8080/",
          "height": 123
        },
        "id": "GKfzXtVyepKz",
        "outputId": "c5b4ac6d-6361-4730-ad3c-72676420a4dc"
      },
      "outputs": [
        {
          "data": {
            "application/vnd.google.colaboratory.intrinsic+json": {
              "type": "string"
            },
            "text/plain": [
              "'\\nSearch Wikipedia\\nChatbot\\nProgram that simulates conversation / From Wikipedia, the free encyclopedia  \\nCustomer service\\nInternet bot\\nNICE Ltd.\\nDEAR WIKIWAND AI, LET\\'S KEEP IT SHORT BY SIMPLY ANSWERING THESE KEY QUESTIONS:\\nCan you list the top facts and stats about Chatbot?\\n\\nSummarize this article for a 10 year old\\n\\nSHOW ALL QUESTIONS\\nA chatbot (originally chatterbot) is a software application or web interface that is designed to mimic human conversation through text or voice interactions. Modern chatbots are typically online and use generative artificial intelligence systems that are capable of maintaining a conversation with a user in natural language and simulating the way a human would behave as a conversational partner. Such chatbots often use deep learning and natural language processing, but simpler chatbots have existed for decades.\\n\\n\\n\\nA virtual assistant chatbot\\n\\nThe 1966 ELIZA chatbot\\nSince late 2022, the field has gained widespread attention due to the popularity of OpenAI\\'s ChatGPT, followed by alternatives such as Microsoft\\'s Copilot and Google\\'s Gemini. Such examples reflect the recent practice of basing such products upon broad foundational large language models, such as GPT-4 or the Gemini language model, that get fine-tuned so as to target specific tasks or applications (i.e., simulating human conversation, in the case of chatbots). Chatbots can also be designed or customized to further target even more specific situations and/or particular subject-matter domains.\\n\\nA major area where chatbots have long been used is in customer service and support, with various sorts of virtual assistants. Companies spanning a wide range of industries have begun using the latest generative artificial intelligence technologies to power more advanced developments in such areas.\\n\\nAs chatbots work by predicting responses rather than knowing the meaning of their responses, this means they can produce coherent-sounding but inaccurate or fabricated content, referred to as ‘hallucinations’. When humans use and apply chatbot content contaminated with hallucinations, this results in ‘botshit’. Given the increasing adoption and use of chatbots for generating content, there are concerns that this technology will significantly reduce the cost it takes humans to generate, spread and consume bullshit.\\n\\nBackground\\nIn 1950, Alan Turing\\'s famous article \"Computing Machinery and Intelligence\" was published, which proposed what is now called the Turing test as a criterion of intelligence. This criterion depends on the ability of a computer program to impersonate a human in a real-time written conversation with a human judge to the extent that the judge is unable to distinguish reliably—on the basis of the conversational content alone—between the program and a real human. The notoriety of Turing\\'s proposed test stimulated great interest in Joseph Weizenbaum\\'s program ELIZA, published in 1966, which seemed to be able to fool users into believing that they were conversing with a real human. However Weizenbaum himself did not claim that ELIZA was genuinely intelligent, and the introduction to his paper presented it more as a debunking exercise:\\n\\nIn artificial intelligence, machines are made to behave in wondrous ways, often sufficient to dazzle even the most experienced observer. But once a particular program is unmasked, once its inner workings are explained, its magic crumbles away; it stands revealed as a mere collection of procedures. The observer says to himself \"I could have written that\". With that thought, he moves the program in question from the shelf marked \"intelligent\", to that reserved for curios. The object of this paper is to cause just such a re-evaluation of the program about to be \"explained\". Few programs ever needed it more.\\n\\nELIZA\\'s key method of operation (copied by chatbot designers ever since) involves the recognition of clue words or phrases in the input, and the output of the corresponding pre-prepared or pre-programmed responses that can move the conversation forward in an apparently meaningful way (e.g. by responding to any input that contains the word \\'MOTHER\\' with \\'TELL ME MORE ABOUT YOUR FAMILY\\'). Thus an illusion of understanding is generated, even though the processing involved has been merely superficial. ELIZA showed that such an illusion is surprisingly easy to generate because human judges are so ready to give the benefit of the doubt when conversational responses are capable of being interpreted as \"intelligent\".\\n\\nInterface designers have come to appreciate that humans\\' readiness to interpret computer output as genuinely conversational—even when it is actually based on rather simple pattern-matching—can be exploited for useful purposes. Most people prefer to engage with programs that are human-like, and this gives chatbot-style techniques a potentially useful role in interactive systems that need to elicit information from users, as long as that information is relatively straightforward and falls into predictable categories. Thus, for example, online help systems can usefully employ chatbot techniques to identify the area of help that users require, potentially providing a \"friendlier\" interface than a more formal search or menu system. This sort of usage holds the prospect of moving chatbot technology from Weizenbaum\\'s \"shelf ... reserved for curios\" to that marked \"genuinely useful computational methods\".\\n\\nDevelopment\\nAmong the most notable early chatbots are ELIZA (1966) and PARRY (1972). More recent notable programs include A.L.I.C.E., Jabberwacky and D.U.D.E (Agence Nationale de la Recherche and CNRS 2006). While ELIZA and PARRY were used exclusively to simulate typed conversation, many chatbots now include other functional features, such as games and web searching abilities. In 1984, a book called The Policeman\\'s Beard is Half Constructed was published, allegedly written by the chatbot Racter (though the program as released would not have been capable of doing so).\\n\\nFrom 1978 to some time after 1983, the CYRUS project led by Janet Kolodner constructed a chatbot simulating Cyrus Vance (57th United States Secretary of State). It used case-based reasoning, and updated its database daily by parsing wire news from United Press International. The program was unable to process the news items subsequent to the surprise resignation of Cyrus Vance in April 1980, and the team constructed another chatbot simulating his successor, Edmund Muskie.\\n\\nOne pertinent field of AI research is natural-language processing. Usually, weak AI fields employ specialized software or programming languages created specifically for the narrow function required. For example, A.L.I.C.E. uses a markup language called AIML, which is specific to its function as a conversational agent, and has since been adopted by various other developers of, so-called, Alicebots. Nevertheless, A.L.I.C.E. is still purely based on pattern matching techniques without any reasoning capabilities, the same technique ELIZA was using back in 1966. This is not strong AI, which would require sapience and logical reasoning abilities.\\n\\nJabberwacky learns new responses and context based on real-time user interactions, rather than being driven from a static database. Some more recent chatbots also combine real-time learning with evolutionary algorithms that optimize their ability to communicate based on each conversation held. Still, there is currently no general purpose conversational artificial intelligence, and some software developers focus on the practical aspect, information retrieval.\\n\\nChatbot competitions focus on the Turing test or more specific goals. Two such annual contests are the Loebner Prize and The Chatterbox Challenge (the latter has been offline since 2015, however, materials can still be found from web archives).\\n\\nChatbots may use artificial neural networks as a language model. For example, generative pre-trained transformers (GPT), which use the transformer architecture, have become common to build sophisticated chatbots. The \"pre-training\" in its name refers to the initial training process on a large text corpus, which provides a solid foundation for the model to perform well on downstream tasks with limited amounts of task-specific data. An example of a GPT chatbot is ChatGPT. Despite criticism of its accuracy and tendency to “hallucinate”—that is, to confidently output false information and even cite non-existent sources—ChatGPT has gained attention for its detailed responses and historical knowledge. Another example is BioGPT, developed by Microsoft, which focuses on answering biomedical questions. In November 2023, Amazon announced a new chatbot, called Q, for people to use at work.\\n\\nDBpedia created a chatbot during the GSoC of 2017. It can communicate through Facebook Messenger (see Master of Code Global article).\\n\\nApplication\\nSee also: Virtual assistant\\nMessaging apps\\nMany companies\\' chatbots run on messaging apps or simply via SMS. They are used for B2C customer service, sales and marketing.\\n\\nIn 2016, Facebook Messenger allowed developers to place chatbots on their platform. There were 30,000 bots created for Messenger in the first six months, rising to 100,000 by September 2017.\\n\\nSince September 2017, this has also been as part of a pilot program on WhatsApp. Airlines KLM and Aeroméxico both announced their participation in the testing; both airlines had previously launched customer services on the Facebook Messenger platform.\\n\\nThe bots usually appear as one of the user\\'s contacts, but can sometimes act as participants in a group chat.\\n\\nMany banks, insurers, media companies, e-commerce companies, airlines, hotel chains, retailers, health care providers, government entities, and restaurant chains have used chatbots to answer simple questions, increase customer engagement, for promotion, and to offer additional ways to order from them. Chatbots are also used in market research to collect short survey responses.\\n\\nA 2017 study showed 4% of companies used chatbots. According to a 2016 study, 80% of businesses said they intended to have one by 2020.\\n\\nAs part of company apps and websites\\nPrevious generations of chatbots were present on company websites, e.g. Ask Jenn from Alaska Airlines which debuted in 2008 or Expedia\\'s virtual customer service agent which launched in 2011. The newer generation of chatbots includes IBM Watson-powered \"Rocky\", introduced in February 2017 by the New York City-based e-commerce company Rare Carat to provide information to prospective diamond buyers.\\n\\nChatbot sequences\\nUsed by marketers to script sequences of messages, very similar to an autoresponder sequence. Such sequences can be triggered by user opt-in or the use of keywords within user interactions. After a trigger occurs a sequence of messages is delivered until the next anticipated user response. Each user response is used in the decision tree to help the chatbot navigate the response sequences to deliver the correct response message.\\n\\nCompany internal platforms\\nOther companies explore ways they can use chatbots internally, for example for Customer Support, Human Resources, or even in Internet-of-Things (IoT) projects. Overstock.com, for one, has reportedly launched a chatbot named Mila to automate certain simple yet time-consuming processes when requesting sick leave. Other large companies such as Lloyds Banking Group, Royal Bank of Scotland, Renault and Citroën are now using automated online assistants instead of call centres with humans to provide a first point of contact. A SaaS chatbot business ecosystem has been steadily growing since the F8 Conference when Facebook’s Mark Zuckerberg unveiled that Messenger would allow chatbots into the app. In large companies, like in hospitals and aviation organizations, IT architects are designing reference architectures for Intelligent Chatbots that are used to unlock and share knowledge and experience in the organization more efficiently, and reduce the errors in answers from expert service desks significantly. These Intelligent Chatbots make use of all kinds of artificial intelligence like image moderation and natural-language understanding (NLU), natural-language generation (NLG), machine learning and deep learning.\\n\\nCustomer service\\nChatbots have great potential to serve as an alternate source for customer service. Many high-tech banking organizations are looking to integrate automated AI-based solutions such as chatbots into their customer service in order to provide faster and cheaper assistance to their clients who are becoming increasingly comfortable with technology. In particular, chatbots can efficiently conduct a dialogue, usually replacing other communication tools such as email, phone, or SMS. In banking, their major application is related to quick customer service answering common requests, as well as transactional support.\\n\\nDeep learning techniques can be incorporated into chatbot applications to allow them to map conversations between users and customer service agents, especially in social media. Research has shown that methods incorporating deep learning can learn writing styles from a brand and transfer them to another, promoting the brand\\'s image on social media platforms. Chatbots can create new ways of brands and user interactions, which can help improve the brand\\'s performance and allow users to gain \"social, information, and economic benefits\".\\n\\nSeveral studies report significant reduction in the cost of customer services, expected to lead to billions of dollars of economic savings in the next ten years. In 2019, Gartner predicted that by 2021, 15% of all customer service interactions globally will be handled completely by AI. A study by Juniper Research in 2019 estimates retail sales resulting from chatbot-based interactions will reach $112 billion by 2023.\\n\\nSince 2016, when Facebook allowed businesses to deliver automated customer support, e-commerce guidance, content, and interactive experiences through chatbots, a large variety of chatbots were developed for the Facebook Messenger platform.\\n\\nIn 2016, Russia-based Tochka Bank launched the world\\'s first Facebook bot for a range of financial services, including a possibility of making payments.\\n\\nIn July 2016, Barclays Africa also launched a Facebook chatbot, making it the first bank to do so in Africa.\\n\\nThe France\\'s third-largest bank by total assets Société Générale launched their chatbot called SoBot in March 2018. While 80% of users of the SoBot expressed their satisfaction after having tested it, Société Générale deputy director Bertrand Cozzarolo stated that it will never replace the expertise provided by a human advisor. \\n\\nThe advantages of using chatbots for customer interactions in banking include cost reduction, financial advice, and 24/7 support.\\n\\nHealthcare\\nSee also: Artificial intelligence in healthcare\\nChatbots are also appearing in the healthcare industry. A study suggested that physicians in the United States believed that chatbots would be most beneficial for scheduling doctor appointments, locating health clinics, or providing medication information.\\n\\nThe GPT chatbot ChatGPT is able to answer user queries related to health promotion and disease prevention such as screening and vaccination. Whatsapp has teamed up with the World Health Organization (WHO) to make a chatbot service that answers users\\' questions on COVID-19.\\n\\nIn 2020, The Indian Government launched a chatbot called MyGov Corona Helpdesk, that worked through Whatsapp and helped people access information about the Coronavirus (COVID-19) pandemic.\\n\\nCertain patient groups are still reluctant to use chatbots. A mixed-methods study showed that people are still hesitant to use chatbots for their healthcare due to poor understanding of the technological complexity, the lack of empathy, and concerns about cyber-security. The analysis showed that while 6% had heard of a health chatbot and 3% had experience of using it, 67% perceived themselves as likely to use one within 12 months. The majority of participants would use a health chatbot for seeking general health information (78%), booking a medical appointment (78%), and looking for local health services (80%). However, a health chatbot was perceived as less suitable for seeking results of medical tests and seeking specialist advice such as sexual health.\\n\\nThe analysis of attitudinal variables showed that most participants reported their preference for discussing their health with doctors (73%) and having access to reliable and accurate health information (93%). While 80% were curious about new technologies that could improve their health, 66% reported only seeking a doctor when experiencing a health problem and 65% thought that a chatbot was a good idea. 30% reported dislike about talking to computers, 41% felt it would be strange to discuss health matters with a chatbot and about half were unsure if they could trust the advice given by a chatbot. Therefore, perceived trustworthiness, individual attitudes towards bots, and dislike for talking to computers are the main barriers to health chatbots.\\n\\nPolitics\\nSee also: Government by algorithm § AI politicians\\nIn New Zealand, the chatbot SAM – short for Semantic Analysis Machine (made by Nick Gerritsen of Touchtech) – has been developed. It is designed to share its political thoughts, for example on topics such as climate change, healthcare and education, etc. It talks to people through Facebook Messenger.\\n\\nIn 2022, the chatbot \"Leader Lars\" or \"Leder Lars\" was nominated for The Synthetic Party to run in the Danish parliamentary election, and was built by the artist collective Computer Lars. Leader Lars differed from earlier virtual politicians by leading a political party and by not pretending to be an objective candidate. This chatbot engaged in critical discussions on politics with users from around the world.\\n\\nIn India, the state government has launched a chatbot for its Aaple Sarkar platform, which provides conversational access to information regarding public services managed.\\n\\nGovernment\\nChatbots have been used at different levels of government departments, including local, national and regional contexts. Chatbots are used to provide services like citizenship and immigration, court administrations, financial aid, and migrants’ rights inquiries. For example, EMMA answers more than 500,000 inquiries monthly, regarding services on citizenship and immigration in the US.\\n\\nToys\\nChatbots have also been incorporated into devices not primarily meant for computing, such as toys.\\n\\nHello Barbie is an Internet-connected version of the doll that uses a chatbot provided by the company ToyTalk, which previously used the chatbot for a range of smartphone-based characters for children. These characters\\' behaviors are constrained by a set of rules that in effect emulate a particular character and produce a storyline.\\n\\nThe My Friend Cayla doll was marketed as a line of 18-inch (46 cm) dolls which uses speech recognition technology in conjunction with an Android or iOS mobile app to recognize the child\\'s speech and have a conversation. Like the Hello Barbie doll, it attracted controversy due to vulnerabilities with the doll\\'s Bluetooth stack and its use of data collected from the child\\'s speech.\\n\\nIBM\\'s Watson computer has been used as the basis for chatbot-based educational toys for companies such as CogniToys, intended to interact with children for educational purposes.\\n\\nMalicious use\\nMalicious chatbots are frequently used to fill chat rooms with spam and advertisements by mimicking human behavior and conversations or to entice people into revealing personal information, such as bank account numbers. They were commonly found on Yahoo! Messenger, Windows Live Messenger, AOL Instant Messenger and other instant messaging protocols. There has also been a published report of a chatbot used in a fake personal ad on a dating service\\'s website.\\n\\nTay, an AI chatbot designed to learn from previous interaction, caused major controversy due to it being targeted by internet trolls on Twitter. Soon after its launch, the bot was exploited, and with its \"repeat after me\" capability, it started releasing racist, sexist, and controversial responses to Twitter users. This suggests that although the bot learned effectively from experience, adequate protection was not put in place to prevent misuse.\\n\\nIf a text-sending algorithm can pass itself off as a human instead of a chatbot, its message would be more credible. Therefore, human-seeming chatbots with well-crafted online identities could start scattering fake news that seems plausible, for instance making false claims during an election. With enough chatbots, it might be even possible to achieve artificial social proof.\\n\\nData security\\nData security is one of the major concerns of chatbot technologies. Security threats and system vulnerabilities are weaknesses that are often exploited by malicious users. Storage of user data and past communication, that is highly valuable for training and development of chatbots, can also give rise to security threats. Chatbots operating on third-party networks may be subject to various security issues if owners of the third-party applications have policies regarding user data that differ from those of the chatbot. Security threats can be reduced or prevented by incorporating protective mechanisms. User authentication, chat End-to-end encryption, and self-destructing messages are some effective solutions to resist potential security threats.\\n\\nLimitations of chatbots\\nThe creation and implementation of chatbots is still a developing area, heavily related to artificial intelligence and machine learning, so the provided solutions, while possessing obvious advantages, have some important limitations in terms of functionalities and use cases. However, this is changing over time.\\n\\nThe most common limitations are listed below:\\n\\nAs the input/output database is fixed and limited, chatbots can fail while dealing with an unsaved query.\\nA chatbot\\'s efficiency highly depends on language processing and is limited because of irregularities, such as accents and mistakes.\\nChatbots are unable to deal with multiple questions at the same time and so conversation opportunities are limited.\\nChatbots require a large amount of conversational data to train. Generative models, which are based on deep learning algorithms to generate new responses word by word based on user input, are usually trained on a large dataset of natural-language phrases.\\nChatbots have difficulty managing non-linear conversations that must go back and forth on a topic with a user.\\nAs it happens usually with technology-led changes in existing services, some consumers, more often than not from older generations, are uncomfortable with chatbots due to their limited understanding, making it obvious that their requests are being dealt with by machines.\\nChatbots and jobs\\nChatbots are increasingly present in businesses and often are used to automate tasks that do not require skill-based talents. With customer service taking place via messaging apps as well as phone calls, there are growing numbers of use-cases where chatbot deployment gives organizations a clear return on investment. Call center workers may be particularly at risk from AI-driven chatbots.\\n\\nChatbot jobs\\n\\nChatbot developers create, debug, and maintain applications that automate customer services or other communication processes. Their duties include reviewing and simplifying code when needed. They may also help companies implement bots in their operations.\\n\\nA study by Forrester (June 2017) predicted that 25% of all jobs would be impacted by AI technologies by 2019.\\n\\nPrompt Engineering, the task of designing and refining prompts (inputs) leading to desired AI-generated responses has gained significant demand and popularity in recent years, with the advent of sophisticated models, notably OpenAI’s GPT series (which still contain notable flaws and limitations, as previously outlined).\\n\\nSee also\\nicon\\tLinguistics portal\\nicon\\tProgramming portal\\nicon\\tHuman–computer interaction portal\\nApplications of artificial intelligence\\nAutonomous agent\\nChatGPT (from OpenAI)\\nConversational user interface\\nDead Internet theory\\nEugene Goostman\\nFriendly artificial intelligence\\nGemini (from Google)\\nHybrid intelligent system\\nIntelligent agent\\nInternet bot\\nList of chatbots\\nMulti-agent system\\nNatural language processing\\nSocial bot\\nSoftware agent\\nSoftware bot\\nStochastic parrot\\nTwitterbot\\nReferences\\nFurther reading\\nExternal links\\nNatural language processing\\nAuthority control databases: National\\nEnjoying Wikiwand?\\nWikiwand is a leading donor to the Wikimedia Foundation, we pledge to give a portion of our income to help Wikipedia thrive. By using Wikiwand, for FREE, you directly contribute to keep Wikipedia alive.\\n\\nDonate now\\n30% goes to Wikimedia!\\nNot right now, thanks\\nRelated Articles\\n\\nCustomer service\\n\\nProvision of service to customers\\nCustomer service is the assistance and advice provided by a company through phone, online chat, and e-mail to those who buy or use its products or services. Each industry requires different levels of customer service, but towards the end, the idea of a well-performed service is that of increasing revenues. The perception of success of the customer ...\\nRead article\\n\\nInternet bot\\n\\nSoftware that runs automated tasks over the Internet\\nAn Internet bot, web robot, robot or simply bot, is a software application that runs automated tasks (scripts) on the Internet, usually with the intent to imitate human activity, such as messaging, on a large scale. An Internet bot plays the client role in a client–server model whereas the server role is usually played by web servers. Internet bot...\\nRead article\\n\\nNICE Ltd.\\n\\nSurveillence and data analytics company in Israel\\nNICE is an Israeli technology company specializing in customer relations management software, artificial intelligence, and digital and workforce engagement management. The company serves various industries, such as financial services, telecommunications, healthcare, outsourcers, retail, media, travel, service providers, and utilities.\\nRead article\\n\\nList of chatbots\\n\\nA chatbot is a software application or web interface that is designed to mimic human conversation through text or voice interactions. Modern chatbots are typically online and use generative artificial intelligence systems that are capable of maintaining a conversation with a user in natural language and simulating the way a human would behave as a ...\\nRead article\\n\\nVirtual assistant\\n\\nSoftware agent\\nA virtual assistant (VA) is a software agent that can perform a range of tasks or services for a user based on user input such as commands or questions, including verbal ones. Such technologies often incorporate chatbot capabilities to simulate human conversation, such as via online chat, to facilitate interaction with their users. The interaction ...\\nRead article\\nLoad all related articles\\nHome\\nAbout us\\nFAQ\\nPress\\nSite map\\nTerms of service\\nPrivacy policy\\n'"
            ]
          },
          "execution_count": 67,
          "metadata": {},
          "output_type": "execute_result"
        }
      ],
      "source": [
        "raw_doc"
      ]
    },
    {
      "cell_type": "code",
      "execution_count": null,
      "metadata": {
        "colab": {
          "base_uri": "https://localhost:8080/"
        },
        "id": "t_hhvnTZFE5H",
        "outputId": "88940cfc-d631-4d2b-bb79-3d4d19261d75"
      },
      "outputs": [
        {
          "name": "stderr",
          "output_type": "stream",
          "text": [
            "[nltk_data] Downloading package punkt to /root/nltk_data...\n",
            "[nltk_data]   Package punkt is already up-to-date!\n",
            "[nltk_data] Downloading package wordnet to /root/nltk_data...\n",
            "[nltk_data]   Package wordnet is already up-to-date!\n"
          ]
        },
        {
          "data": {
            "text/plain": [
              "True"
            ]
          },
          "execution_count": 68,
          "metadata": {},
          "output_type": "execute_result"
        }
      ],
      "source": [
        "raw_doc = raw_doc.lower()\n",
        "nltk.download('punkt')#nltk nın tokenizer kütüphanesi\n",
        "nltk.download('wordnet')#önceden eğitilmiş nltk kelime kütüphanesi\n",
        "\n"
      ]
    },
    {
      "cell_type": "code",
      "execution_count": null,
      "metadata": {
        "id": "HfVQUsb_FExd"
      },
      "outputs": [],
      "source": [
        "sentence_tokens =nltk.sent_tokenize(raw_doc)\n",
        "word_tokens = nltk.word_tokenize(raw_doc)"
      ]
    },
    {
      "cell_type": "code",
      "execution_count": null,
      "metadata": {
        "colab": {
          "base_uri": "https://localhost:8080/"
        },
        "id": "3gTPffSCFEoW",
        "outputId": "fb498328-95cd-4aaf-b9b5-bc55e14017cc"
      },
      "outputs": [
        {
          "data": {
            "text/plain": [
              "[\"\\nsearch wikipedia\\nchatbot\\nprogram that simulates conversation / from wikipedia, the free encyclopedia  \\ncustomer service\\ninternet bot\\nnice ltd.\\ndear wikiwand ai, let's keep it short by simply answering these key questions:\\ncan you list the top facts and stats about chatbot?\",\n",
              " 'summarize this article for a 10 year old\\n\\nshow all questions\\na chatbot (originally chatterbot) is a software application or web interface that is designed to mimic human conversation through text or voice interactions.',\n",
              " 'modern chatbots are typically online and use generative artificial intelligence systems that are capable of maintaining a conversation with a user in natural language and simulating the way a human would behave as a conversational partner.',\n",
              " 'such chatbots often use deep learning and natural language processing, but simpler chatbots have existed for decades.',\n",
              " \"a virtual assistant chatbot\\n\\nthe 1966 eliza chatbot\\nsince late 2022, the field has gained widespread attention due to the popularity of openai's chatgpt, followed by alternatives such as microsoft's copilot and google's gemini.\",\n",
              " 'such examples reflect the recent practice of basing such products upon broad foundational large language models, such as gpt-4 or the gemini language model, that get fine-tuned so as to target specific tasks or applications (i.e., simulating human conversation, in the case of chatbots).']"
            ]
          },
          "execution_count": 70,
          "metadata": {},
          "output_type": "execute_result"
        }
      ],
      "source": [
        "sentence_tokens[:6]"
      ]
    },
    {
      "cell_type": "code",
      "execution_count": null,
      "metadata": {
        "colab": {
          "base_uri": "https://localhost:8080/"
        },
        "id": "imsmaM6WIc04",
        "outputId": "0540d34e-060f-496b-d603-99e5b69afb65"
      },
      "outputs": [
        {
          "data": {
            "text/plain": [
              "['bot',\n",
              " 'nice',\n",
              " 'ltd.',\n",
              " 'dear',\n",
              " 'wikiwand',\n",
              " 'ai',\n",
              " ',',\n",
              " 'let',\n",
              " \"'s\",\n",
              " 'keep',\n",
              " 'it',\n",
              " 'short',\n",
              " 'by',\n",
              " 'simply',\n",
              " 'answering',\n",
              " 'these',\n",
              " 'key',\n",
              " 'questions',\n",
              " ':',\n",
              " 'can',\n",
              " 'you']"
            ]
          },
          "execution_count": 71,
          "metadata": {},
          "output_type": "execute_result"
        }
      ],
      "source": [
        "word_tokens[17:38]"
      ]
    },
    {
      "cell_type": "code",
      "execution_count": null,
      "metadata": {
        "id": "ue8ZRM0KIctk"
      },
      "outputs": [],
      "source": [
        "lemmer = nltk.stem.WordNetLemmatizer()\n",
        "def LemTokens(tokens):\n",
        "  return [lemmer.lemmatize(token) for token in tokens]\n",
        "  #bu fonksiyon kelimelerin kökünü alır ve liste olarak döndürür\n",
        "remove_punc_dict = dict((ord(punct), None) for punct in string.punctuation)\n",
        "#noktalama işaretlerini çekip bir dizi oluşturur\n",
        "def LemNormalize(text):\n",
        "  return LemTokens(nltk.word_tokenize(text.lower().translate(remove_punc_dict)))\n",
        "  #burada da noktalama işaretlerini siler"
      ]
    },
    {
      "cell_type": "code",
      "execution_count": null,
      "metadata": {
        "id": "mY9yWc2JIpHs"
      },
      "outputs": [],
      "source": [
        "greet_input = (\"hello\", \"hi\", \"greetings\", \"sup\", \"what's up\",\"hey\")\n",
        "greet_response = (\"hi\", \"hey\", \"*nods*\", \"hi there\", \"hello\", \"I am glad! You are talking to me\")\n",
        "def greet(sentence):\n",
        "  for word in sentence.split():\n",
        "    #her kelimeyi ayır\n",
        "    if word.lower() in greet_input:\n",
        "      return random.choice(greet_response)"
      ]
    },
    {
      "cell_type": "code",
      "execution_count": null,
      "metadata": {
        "id": "Hh-rpuYhIpB8"
      },
      "outputs": [],
      "source": [
        "from sklearn.feature_extraction.text import TfidfVectorizer\n",
        "#sayısl değerlere çevirip vektörleştirir\n",
        "from sklearn.metrics.pairwise import cosine_similarity\n",
        "#cosine similarity kullanarak benzerlik ölçümü yapar"
      ]
    },
    {
      "cell_type": "code",
      "execution_count": null,
      "metadata": {
        "id": "hxy09Gv2Io9X"
      },
      "outputs": [],
      "source": [
        "def response(user_response):\n",
        "  robo1_response = ''\n",
        "  TfidfVec = TfidfVectorizer(tokenizer=LemNormalize, stop_words='english')\n",
        "  #TfidfVectorizer verileri sayısal vektörlere dönüştürür\n",
        "  #lemnormalize yukarıda tanımladığım gibi noktalamaları kaldırıp\n",
        "  #küçük harfli köklere dönüştürür\n",
        "  tfidf = TfidfVec.fit_transform(sentence_tokens)\n",
        "  #cümle tokenlerini alıp bir benzerlik matrisine dönüştürür\n",
        "  vals = cosine_similarity(tfidf[-1],tfidf)\n",
        "  #kullanıcı girdisinin benzerlik matrisini\n",
        "  #metindeki benzerlik matrisleri ile karşılaştırır\n",
        "  idx = vals.argsort()[0][-2]\n",
        "  #en yüksek 2. benzerlik değerini alır\n",
        "  flat = vals.flatten()\n",
        "  #benzerlik matrisini tek boyutlu diziye dönüştürür\n",
        "  flat.sort()\n",
        "  #benzerlik küçükten büyüğe sıralanır\n",
        "  req_tfidf = flat[-2]\n",
        "  #en büyük 2. benzerlik değeri req_tfidf'e atanır\n",
        "  if(req_tfidf == 0):\n",
        "    robo1_response = robo1_response + \"I am sorry! I don't understand you\"\n",
        "    return robo1_response\n",
        "  else:\n",
        "    robo1_response = robo1_response + sentence_tokens[idx]\n",
        "    return robo1_response\n"
      ]
    },
    {
      "cell_type": "code",
      "execution_count": null,
      "metadata": {
        "colab": {
          "background_save": true,
          "base_uri": "https://localhost:8080/",
          "height": 512
        },
        "id": "zKCqOlJhIo2r",
        "outputId": "43224877-bd61-4dec-fbd6-fe2d11d44d65"
      },
      "outputs": [
        {
          "name": "stdout",
          "output_type": "stream",
          "text": [
            "hello! I am the seminer bot.please say hi, if you want to end it type bye \n",
            "Bot:hey\n",
            "Bot:an example of a gpt chatbot is chatgpt.\n",
            "Bot:chatbot competitions focus on the turing test or more specific goals.\n"
          ]
        }
      ],
      "source": [
        "flag = True\n",
        "print(\"hello! I am the seminer bot.please say hi, if you want to end it type bye \")\n",
        "while(flag == True):\n",
        "  user_response = input()\n",
        "  user_response = user_response.lower()\n",
        "  if(user_response != 'bye'):\n",
        "    if(user_response == 'thanks' or user_response == 'thank you'):\n",
        "      flag = False\n",
        "      print(\"bot: you are welcome\")\n",
        "    else:\n",
        "      if(greet(user_response) != None):\n",
        "        print('Bot:'+ greet(user_response))\n",
        "      else:\n",
        "        sentence_tokens.append(user_response)\n",
        "        word_tokens = word_tokens + nltk.word_tokenize(user_response)\n",
        "        final_words = list(set(word_tokens))\n",
        "        print('Bot:',end = '')\n",
        "        print(response(user_response))\n",
        "        sentence_tokens.remove(user_response)\n",
        "  else:\n",
        "    flag = False\n",
        "    print('Bot: bye!')"
      ]
    },
    {
      "cell_type": "code",
      "execution_count": null,
      "metadata": {
        "id": "ggw5B5qFN9O3"
      },
      "outputs": [],
      "source": []
    }
  ],
  "metadata": {
    "colab": {
      "provenance": []
    },
    "kernelspec": {
      "display_name": "Python 3",
      "name": "python3"
    },
    "language_info": {
      "name": "python"
    }
  },
  "nbformat": 4,
  "nbformat_minor": 0
}